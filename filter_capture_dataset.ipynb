{
 "cells": [
  {
   "cell_type": "code",
   "execution_count": 1,
   "id": "35d33ff6",
   "metadata": {},
   "outputs": [],
   "source": [
    "import pandas as pd"
   ]
  },
  {
   "cell_type": "code",
   "execution_count": 4,
   "id": "34cf4f4d",
   "metadata": {},
   "outputs": [],
   "source": [
    "capture_filename = './all_capture24.csv'\n",
    "chunk_size = 10000\n",
    "\n",
    "# Group sizes to split the dataset (how many persons are stored in each group)\n",
    "group_sizes = {\n",
    "    'capture_train1': 15,\n",
    "    'capture_train2': 15,\n",
    "    'capture_train3': 15,\n",
    "    'capture_train4': 15,\n",
    "    'capture_train5': 15,\n",
    "    'capture_train6': 15,\n",
    "    'capture_train7': 16,\n",
    "    'capture_validation1': 15,\n",
    "    'capture_validation2': 15,\n",
    "    'capture_test': 15\n",
    "}\n",
    "\n",
    "# Output CSV file paths\n",
    "output_files = {group: f\"{group}.csv\" for group in group_sizes}\n",
    "\n",
    "# Track whether we've written the header yet\n",
    "first_write = {group: True for group in group_sizes}\n",
    "\n",
    "# To keep track of PERSON_IDs and group assignments\n",
    "seen_ids = []\n",
    "id_to_group = {}\n",
    "\n",
    "# Assign each new PERSON_ID to a group\n",
    "def assign_group(person_id):\n",
    "    if person_id not in id_to_group:\n",
    "        seen_ids.append(person_id)\n",
    "        idx = len(seen_ids) - 1\n",
    "        cumulative = 0\n",
    "        for group, size in group_sizes.items():\n",
    "            if idx < cumulative + size:\n",
    "                id_to_group[person_id] = group\n",
    "                break\n",
    "            cumulative += size\n",
    "    return id_to_group[person_id]\n",
    "\n",
    "for chunk in pd.read_csv(capture_filename, chunksize=chunk_size):\n",
    "    # Assign group to each row based on PERSON_ID\n",
    "    chunk['GROUP'] = chunk['PERSON_ID'].map(assign_group)\n",
    "\n",
    "    # Write rows to corresponding group CSV\n",
    "    for group in group_sizes:\n",
    "        filtered = chunk[chunk['GROUP'] == group].drop(columns='GROUP')\n",
    "        if not filtered.empty:\n",
    "            filtered.to_csv(\n",
    "                output_files[group],\n",
    "                mode='a',\n",
    "                index=False,\n",
    "                header=first_write[group]\n",
    "            )\n",
    "            first_write[group] = False  # Only write header once"
   ]
  },
  {
   "cell_type": "code",
   "execution_count": 6,
   "id": "761435f5",
   "metadata": {},
   "outputs": [
    {
     "name": "stdout",
     "output_type": "stream",
     "text": [
      "capture_train1 ids: <bound method Series.unique of 0           152\n",
      "1           152\n",
      "2           152\n",
      "3           152\n",
      "4           152\n",
      "           ... \n",
      "94243337    166\n",
      "94243338    166\n",
      "94243339    166\n",
      "94243340    166\n",
      "94243341    166\n",
      "Name: PERSON_ID, Length: 94243342, dtype: int64>\n"
     ]
    },
    {
     "name": "stderr",
     "output_type": "stream",
     "text": [
      "/tmp/ipykernel_11012/1907243517.py:4: DeprecationWarning: DataFrameGroupBy.apply operated on the grouping columns. This behavior is deprecated, and in a future version of pandas the grouping columns will be excluded from the operation. Either pass `include_groups=False` to exclude the groupings or explicitly select the grouping columns after groupby to silence this warning.\n",
      "  capture_train_slice = (capture_train.groupby('PERSON_ID').apply(lambda group: group.iloc[::100]).reset_index(drop=True))\n"
     ]
    },
    {
     "name": "stdout",
     "output_type": "stream",
     "text": [
      "capture_train1.shape: (942441, 6)\n",
      "capture_train2 ids: <bound method Series.unique of 0           167\n",
      "1           167\n",
      "2           167\n",
      "3           167\n",
      "4           167\n",
      "           ... \n",
      "94045365    181\n",
      "94045366    181\n",
      "94045367    181\n",
      "94045368    181\n",
      "94045369    181\n",
      "Name: PERSON_ID, Length: 94045370, dtype: int64>\n"
     ]
    },
    {
     "name": "stderr",
     "output_type": "stream",
     "text": [
      "/tmp/ipykernel_11012/1907243517.py:4: DeprecationWarning: DataFrameGroupBy.apply operated on the grouping columns. This behavior is deprecated, and in a future version of pandas the grouping columns will be excluded from the operation. Either pass `include_groups=False` to exclude the groupings or explicitly select the grouping columns after groupby to silence this warning.\n",
      "  capture_train_slice = (capture_train.groupby('PERSON_ID').apply(lambda group: group.iloc[::100]).reset_index(drop=True))\n"
     ]
    },
    {
     "name": "stdout",
     "output_type": "stream",
     "text": [
      "capture_train2.shape: (940459, 6)\n",
      "capture_train3 ids: <bound method Series.unique of 0           182\n",
      "1           182\n",
      "2           182\n",
      "3           182\n",
      "4           182\n",
      "           ... \n",
      "89716788    196\n",
      "89716789    196\n",
      "89716790    196\n",
      "89716791    196\n",
      "89716792    196\n",
      "Name: PERSON_ID, Length: 89716793, dtype: int64>\n"
     ]
    },
    {
     "name": "stderr",
     "output_type": "stream",
     "text": [
      "/tmp/ipykernel_11012/1907243517.py:4: DeprecationWarning: DataFrameGroupBy.apply operated on the grouping columns. This behavior is deprecated, and in a future version of pandas the grouping columns will be excluded from the operation. Either pass `include_groups=False` to exclude the groupings or explicitly select the grouping columns after groupby to silence this warning.\n",
      "  capture_train_slice = (capture_train.groupby('PERSON_ID').apply(lambda group: group.iloc[::100]).reset_index(drop=True))\n"
     ]
    },
    {
     "name": "stdout",
     "output_type": "stream",
     "text": [
      "capture_train3.shape: (897174, 6)\n",
      "capture_train4 ids: <bound method Series.unique of 0           197\n",
      "1           197\n",
      "2           197\n",
      "3           197\n",
      "4           197\n",
      "           ... \n",
      "93954116    211\n",
      "93954117    211\n",
      "93954118    211\n",
      "93954119    211\n",
      "93954120    211\n",
      "Name: PERSON_ID, Length: 93954121, dtype: int64>\n"
     ]
    },
    {
     "name": "stderr",
     "output_type": "stream",
     "text": [
      "/tmp/ipykernel_11012/1907243517.py:4: DeprecationWarning: DataFrameGroupBy.apply operated on the grouping columns. This behavior is deprecated, and in a future version of pandas the grouping columns will be excluded from the operation. Either pass `include_groups=False` to exclude the groupings or explicitly select the grouping columns after groupby to silence this warning.\n",
      "  capture_train_slice = (capture_train.groupby('PERSON_ID').apply(lambda group: group.iloc[::100]).reset_index(drop=True))\n"
     ]
    },
    {
     "name": "stdout",
     "output_type": "stream",
     "text": [
      "capture_train4.shape: (939548, 6)\n",
      "capture_train5 ids: <bound method Series.unique of 0           212\n",
      "1           212\n",
      "2           212\n",
      "3           212\n",
      "4           212\n",
      "           ... \n",
      "92488305    226\n",
      "92488306    226\n",
      "92488307    226\n",
      "92488308    226\n",
      "92488309    226\n",
      "Name: PERSON_ID, Length: 92488310, dtype: int64>\n"
     ]
    },
    {
     "name": "stderr",
     "output_type": "stream",
     "text": [
      "/tmp/ipykernel_11012/1907243517.py:4: DeprecationWarning: DataFrameGroupBy.apply operated on the grouping columns. This behavior is deprecated, and in a future version of pandas the grouping columns will be excluded from the operation. Either pass `include_groups=False` to exclude the groupings or explicitly select the grouping columns after groupby to silence this warning.\n",
      "  capture_train_slice = (capture_train.groupby('PERSON_ID').apply(lambda group: group.iloc[::100]).reset_index(drop=True))\n"
     ]
    },
    {
     "name": "stdout",
     "output_type": "stream",
     "text": [
      "capture_train5.shape: (924890, 6)\n",
      "capture_train6 ids: <bound method Series.unique of 0           227\n",
      "1           227\n",
      "2           227\n",
      "3           227\n",
      "4           227\n",
      "           ... \n",
      "90759042    241\n",
      "90759043    241\n",
      "90759044    241\n",
      "90759045    241\n",
      "90759046    241\n",
      "Name: PERSON_ID, Length: 90759047, dtype: int64>\n"
     ]
    },
    {
     "name": "stderr",
     "output_type": "stream",
     "text": [
      "/tmp/ipykernel_11012/1907243517.py:4: DeprecationWarning: DataFrameGroupBy.apply operated on the grouping columns. This behavior is deprecated, and in a future version of pandas the grouping columns will be excluded from the operation. Either pass `include_groups=False` to exclude the groupings or explicitly select the grouping columns after groupby to silence this warning.\n",
      "  capture_train_slice = (capture_train.groupby('PERSON_ID').apply(lambda group: group.iloc[::100]).reset_index(drop=True))\n"
     ]
    },
    {
     "name": "stdout",
     "output_type": "stream",
     "text": [
      "capture_train6.shape: (907598, 6)\n",
      "capture_train7 ids: <bound method Series.unique of 0           242\n",
      "1           242\n",
      "2           242\n",
      "3           242\n",
      "4           242\n",
      "           ... \n",
      "97924705    257\n",
      "97924706    257\n",
      "97924707    257\n",
      "97924708    257\n",
      "97924709    257\n",
      "Name: PERSON_ID, Length: 97924710, dtype: int64>\n"
     ]
    },
    {
     "name": "stderr",
     "output_type": "stream",
     "text": [
      "/tmp/ipykernel_11012/1907243517.py:4: DeprecationWarning: DataFrameGroupBy.apply operated on the grouping columns. This behavior is deprecated, and in a future version of pandas the grouping columns will be excluded from the operation. Either pass `include_groups=False` to exclude the groupings or explicitly select the grouping columns after groupby to silence this warning.\n",
      "  capture_train_slice = (capture_train.groupby('PERSON_ID').apply(lambda group: group.iloc[::100]).reset_index(drop=True))\n"
     ]
    },
    {
     "name": "stdout",
     "output_type": "stream",
     "text": [
      "capture_train7.shape: (979257, 6)\n"
     ]
    }
   ],
   "source": [
    "for i in range(1, 8):\n",
    "    capture_train = pd.read_csv('./capture_train' + str(i) + '.csv')\n",
    "    print(f\"capture_train{i} ids: {capture_train['PERSON_ID'].unique}\")\n",
    "    capture_train_slice = (capture_train.groupby('PERSON_ID').apply(lambda group: group.iloc[::100]).reset_index(drop=True))\n",
    "    print(f\"capture_train{i}.shape: {capture_train_slice.shape}\")\n",
    "    capture_train_slice.to_csv('./capture_train' + str(i) + '.csv',mode='w+', index=False)"
   ]
  },
  {
   "cell_type": "code",
   "execution_count": 2,
   "id": "5e1e8a3e",
   "metadata": {},
   "outputs": [
    {
     "name": "stdout",
     "output_type": "stream",
     "text": [
      "capture_validation1 ids: <bound method Series.unique of 0           258\n",
      "1           258\n",
      "2           258\n",
      "3           258\n",
      "4           258\n",
      "           ... \n",
      "90025319    272\n",
      "90025320    272\n",
      "90025321    272\n",
      "90025322    272\n",
      "90025323    272\n",
      "Name: PERSON_ID, Length: 90025324, dtype: int64>\n"
     ]
    },
    {
     "name": "stderr",
     "output_type": "stream",
     "text": [
      "/tmp/ipykernel_13947/4076201438.py:4: DeprecationWarning: DataFrameGroupBy.apply operated on the grouping columns. This behavior is deprecated, and in a future version of pandas the grouping columns will be excluded from the operation. Either pass `include_groups=False` to exclude the groupings or explicitly select the grouping columns after groupby to silence this warning.\n",
      "  capture_validation_slice = (capture_validation.groupby('PERSON_ID').apply(lambda group: group.iloc[::100]).reset_index(drop=True))\n"
     ]
    },
    {
     "name": "stdout",
     "output_type": "stream",
     "text": [
      "capture_validation1.shape: (900258, 6)\n",
      "capture_validation2 ids: <bound method Series.unique of 0           273\n",
      "1           273\n",
      "2           273\n",
      "3           273\n",
      "4           273\n",
      "           ... \n",
      "92154220    287\n",
      "92154221    287\n",
      "92154222    287\n",
      "92154223    287\n",
      "92154224    287\n",
      "Name: PERSON_ID, Length: 92154225, dtype: int64>\n"
     ]
    },
    {
     "name": "stderr",
     "output_type": "stream",
     "text": [
      "/tmp/ipykernel_13947/4076201438.py:4: DeprecationWarning: DataFrameGroupBy.apply operated on the grouping columns. This behavior is deprecated, and in a future version of pandas the grouping columns will be excluded from the operation. Either pass `include_groups=False` to exclude the groupings or explicitly select the grouping columns after groupby to silence this warning.\n",
      "  capture_validation_slice = (capture_validation.groupby('PERSON_ID').apply(lambda group: group.iloc[::100]).reset_index(drop=True))\n"
     ]
    },
    {
     "name": "stdout",
     "output_type": "stream",
     "text": [
      "capture_validation2.shape: (921549, 6)\n"
     ]
    }
   ],
   "source": [
    "for i in range(1, 3):\n",
    "    capture_validation = pd.read_csv('./capture_validation' + str(i) + '.csv')\n",
    "    print(f\"capture_validation{i} ids: {capture_validation['PERSON_ID'].unique}\")\n",
    "    capture_validation_slice = (capture_validation.groupby('PERSON_ID').apply(lambda group: group.iloc[::100]).reset_index(drop=True))\n",
    "    print(f\"capture_validation{i}.shape: {capture_validation_slice.shape}\")\n",
    "    capture_validation_slice.to_csv('./capture_validation' + str(i) + '.csv',mode='w+', index=False)"
   ]
  },
  {
   "cell_type": "code",
   "execution_count": 3,
   "id": "96eda6a2",
   "metadata": {},
   "outputs": [
    {
     "name": "stdout",
     "output_type": "stream",
     "text": [
      "capture_test ids: <bound method Series.unique of 0           288\n",
      "1           288\n",
      "2           288\n",
      "3           288\n",
      "4           288\n",
      "           ... \n",
      "86440635    302\n",
      "86440636    302\n",
      "86440637    302\n",
      "86440638    302\n",
      "86440639    302\n",
      "Name: PERSON_ID, Length: 86440640, dtype: int64>\n"
     ]
    },
    {
     "name": "stderr",
     "output_type": "stream",
     "text": [
      "/tmp/ipykernel_13947/3490817324.py:3: DeprecationWarning: DataFrameGroupBy.apply operated on the grouping columns. This behavior is deprecated, and in a future version of pandas the grouping columns will be excluded from the operation. Either pass `include_groups=False` to exclude the groupings or explicitly select the grouping columns after groupby to silence this warning.\n",
      "  capture_test_slice = (capture_test.groupby('PERSON_ID').apply(lambda group: group.iloc[::100]).reset_index(drop=True))\n"
     ]
    },
    {
     "name": "stdout",
     "output_type": "stream",
     "text": [
      "capture_test.shape: (864415, 6)\n"
     ]
    }
   ],
   "source": [
    "capture_test = pd.read_csv('./capture_test.csv')\n",
    "print(f\"capture_test ids: {capture_test['PERSON_ID'].unique}\")\n",
    "capture_test_slice = (capture_test.groupby('PERSON_ID').apply(lambda group: group.iloc[::100]).reset_index(drop=True))\n",
    "print(f\"capture_test.shape: {capture_test_slice.shape}\")\n",
    "capture_test_slice.to_csv('./capture_test.csv',mode='w+', index=False)"
   ]
  }
 ],
 "metadata": {
  "kernelspec": {
   "display_name": ".venv (3.12.3)",
   "language": "python",
   "name": "python3"
  },
  "language_info": {
   "codemirror_mode": {
    "name": "ipython",
    "version": 3
   },
   "file_extension": ".py",
   "mimetype": "text/x-python",
   "name": "python",
   "nbconvert_exporter": "python",
   "pygments_lexer": "ipython3",
   "version": "3.12.3"
  }
 },
 "nbformat": 4,
 "nbformat_minor": 5
}
