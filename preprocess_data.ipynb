{
 "cells": [
  {
   "cell_type": "code",
   "execution_count": 1,
   "id": "e9c9e39c",
   "metadata": {},
   "outputs": [],
   "source": [
    "import pandas as pd\n",
    "import numpy as np\n",
    "import glob"
   ]
  },
  {
   "cell_type": "code",
   "execution_count": 3,
   "id": "99601996",
   "metadata": {},
   "outputs": [],
   "source": [
    "import seaborn as sns\n",
    "import IPython\n",
    "import IPython.display\n",
    "import matplotlib as mpl\n",
    "import matplotlib.pyplot as plt"
   ]
  },
  {
   "cell_type": "code",
   "execution_count": 2,
   "id": "fbc4a77b",
   "metadata": {},
   "outputs": [],
   "source": [
    "# unite all train csv files for each dataset\n",
    "\n",
    "# dreamt\n",
    "dreamt_train_files = ['./dreamt_train1.csv', './dreamt_train2.csv', './dreamt_train3.csv','./dreamt_train4.csv']\n",
    "\n",
    "dreamt_train = pd.concat(\n",
    "    [pd.read_csv(file) for file in dreamt_train_files],\n",
    "    ignore_index=True\n",
    ")\n",
    "\n",
    "dreamt_train.to_csv('./dreamt_train.csv', index=False)"
   ]
  },
  {
   "cell_type": "code",
   "execution_count": 4,
   "id": "23d5e44e",
   "metadata": {},
   "outputs": [],
   "source": [
    "# capture\n",
    "capture_train_files = ['./capture_train1.csv', './capture_train2.csv', './capture_train3.csv', './capture_train4.csv', './capture_train5.csv', './capture_train6.csv', './capture_train7.csv']\n",
    "\n",
    "capture_train = pd.concat(\n",
    "    [pd.read_csv(file) for file in capture_train_files],\n",
    "    ignore_index=True\n",
    ")\n",
    "\n",
    "capture_train.to_csv('./capture_train.csv', index=False)\n",
    "\n",
    "capture_validation_files = ['./capture_validation1.csv', './capture_validation2.csv']\n",
    "\n",
    "capture_validation = pd.concat(\n",
    "    [pd.read_csv(file) for file in capture_validation_files],\n",
    "    ignore_index=True\n",
    ")\n",
    "\n",
    "capture_validation.to_csv('./capture_validation.csv', index=False)\n"
   ]
  },
  {
   "cell_type": "code",
   "execution_count": 5,
   "id": "74bd9616",
   "metadata": {},
   "outputs": [],
   "source": [
    "# unite all train, validation, and test parts together\n",
    "\n",
    "train_files = ['./dreamt_train.csv', './wisdm_train.csv', './capture_train.csv']\n",
    "validation_files = ['./dreamt_validation.csv', './wisdm_validation.csv', './capture_validation.csv']\n",
    "test_files = ['./dreamt_test.csv', './wisdm_test.csv', './capture_test.csv']\n",
    "\n",
    "train_data = pd.concat(\n",
    "    [pd.read_csv(file) for file in train_files],\n",
    "    ignore_index=True\n",
    ")\n",
    "train_data.to_csv('./train_data.csv', index=False)\n",
    "\n",
    "validation_data = pd.concat(\n",
    "    [pd.read_csv(file) for file in validation_files],\n",
    "    ignore_index=True\n",
    ")\n",
    "\n",
    "validation_data.to_csv('./validation_data.csv', index=False)\n",
    "\n",
    "test_data = pd.concat(\n",
    "    [pd.read_csv(file) for file in test_files],\n",
    "    ignore_index=True\n",
    ")\n",
    "\n",
    "test_data.to_csv('./test_data.csv', index=False)"
   ]
  },
  {
   "cell_type": "markdown",
   "id": "8d0ddd05",
   "metadata": {},
   "source": [
    "# Create new dataset version"
   ]
  },
  {
   "cell_type": "code",
   "execution_count": 2,
   "id": "cdd75972",
   "metadata": {},
   "outputs": [
    {
     "name": "stdout",
     "output_type": "stream",
     "text": [
      "ACTIVITY\n",
      "sleep                          6581285\n",
      "sitting                        3313116\n",
      "household-chores                644371\n",
      "walking                         616305\n",
      "mixed-activity                  386064\n",
      "vehicle                         347362\n",
      "standing                        315531\n",
      "manual-work                     100285\n",
      "bicycling                        89610\n",
      "sports                           52668\n",
      "writing                          16516\n",
      "drinking                         16444\n",
      "dribbling (basket ball)          16182\n",
      "folding clothes                  16108\n",
      "eating chips                     15978\n",
      "kicking (soccer ball)            15891\n",
      "playing catch (tennis ball)      15886\n",
      "brushing teeth                   15846\n",
      "eating soup                      15845\n",
      "clapping                         15844\n",
      "eating pasta                     15730\n",
      "stairs                           15667\n",
      "typing                           15665\n",
      "eating sandwich                  15658\n",
      "jogging                          15493\n",
      "Name: count, dtype: int64\n"
     ]
    }
   ],
   "source": [
    "files = ['./dreamt_train.csv', './dreamt_validation.csv', './dreamt_test.csv',\n",
    "         './wisdm_train.csv', './wisdm_validation.csv', './wisdm_test.csv',\n",
    "         './capture_train.csv', './capture_validation.csv', './capture_test.csv']\n",
    "\n",
    "dataset = pd.concat([pd.read_csv(file) for file in files], ignore_index=True)\n",
    "\n",
    "print(dataset['ACTIVITY'].value_counts())"
   ]
  },
  {
   "cell_type": "code",
   "execution_count": null,
   "id": "3847cfbe",
   "metadata": {},
   "outputs": [],
   "source": [
    "# train_dataset = pd.read_csv('./train_data.csv')\n",
    "# validation_dataset = pd.read_csv('./validation_data.csv')\n",
    "# test_dataset = pd.read_csv('./test_data.csv')"
   ]
  },
  {
   "cell_type": "code",
   "execution_count": null,
   "id": "0f7af9c3",
   "metadata": {},
   "outputs": [],
   "source": [
    "# min_count_train = min(train_dataset['ACTIVITY'].value_counts())\n",
    "# min_count_validation = min(validation_dataset['ACTIVITY'].value_counts())\n",
    "# min_count_test = min(test_dataset['ACTIVITY'].value_counts())"
   ]
  },
  {
   "cell_type": "code",
   "execution_count": null,
   "id": "8f40c9f0",
   "metadata": {},
   "outputs": [
    {
     "name": "stdout",
     "output_type": "stream",
     "text": [
      "6312\n",
      "2422\n",
      "6312\n"
     ]
    }
   ],
   "source": [
    "# print(min_count_train)\n",
    "# print(min_count_validation)\n",
    "# print(min_count_test)"
   ]
  },
  {
   "cell_type": "code",
   "execution_count": null,
   "id": "b0c5fe69",
   "metadata": {},
   "outputs": [],
   "source": [
    "# balanced_train_data = train_dataset.groupby('ACTIVITY').head(min_count_train).reset_index(drop=True)\n",
    "# balanced_validation_data = validation_dataset.groupby('ACTIVITY').head(min_count_validation).reset_index(drop=True)\n",
    "# balanced_test_data = test_dataset.groupby('ACTIVITY').head(min_count_test).reset_index(drop=True)"
   ]
  },
  {
   "cell_type": "markdown",
   "id": "3a164460",
   "metadata": {},
   "source": [
    "# Rebalance dataset by downsampling and upweighting"
   ]
  },
  {
   "cell_type": "code",
   "execution_count": null,
   "id": "22947dad",
   "metadata": {},
   "outputs": [],
   "source": []
  },
  {
   "cell_type": "code",
   "execution_count": null,
   "id": "431555cd",
   "metadata": {},
   "outputs": [],
   "source": []
  },
  {
   "cell_type": "code",
   "execution_count": null,
   "id": "1b76db31",
   "metadata": {},
   "outputs": [],
   "source": []
  }
 ],
 "metadata": {
  "kernelspec": {
   "display_name": ".venv (3.12.3)",
   "language": "python",
   "name": "python3"
  },
  "language_info": {
   "codemirror_mode": {
    "name": "ipython",
    "version": 3
   },
   "file_extension": ".py",
   "mimetype": "text/x-python",
   "name": "python",
   "nbconvert_exporter": "python",
   "pygments_lexer": "ipython3",
   "version": "3.12.3"
  }
 },
 "nbformat": 4,
 "nbformat_minor": 5
}
