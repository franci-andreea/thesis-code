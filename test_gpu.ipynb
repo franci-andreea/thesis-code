{
 "cells": [
  {
   "cell_type": "code",
   "execution_count": null,
   "id": "91f0d237",
   "metadata": {},
   "outputs": [],
   "source": [
    "import torch\n",
    "import tensorflow as tf"
   ]
  },
  {
   "cell_type": "code",
   "execution_count": null,
   "id": "cc6c2057",
   "metadata": {},
   "outputs": [],
   "source": [
    "# List all physical devices\n",
    "gpus = tf.config.experimental.list_physical_devices('GPU')\n",
    "if gpus:\n",
    "    for gpu in gpus:\n",
    "        print(f\"Device Name: {gpu.name}, Device Type: {gpu.device_type}\")\n",
    "    else:\n",
    "        print(\"No GPUs found.\")"
   ]
  },
  {
   "cell_type": "code",
   "execution_count": null,
   "id": "9e66c22d",
   "metadata": {},
   "outputs": [],
   "source": [
    "tf.test.gpu_device_name()"
   ]
  },
  {
   "cell_type": "code",
   "execution_count": null,
   "id": "3af6ce3e",
   "metadata": {},
   "outputs": [],
   "source": [
    "print(torch.cuda.is_available())"
   ]
  }
 ],
 "metadata": {
  "kernelspec": {
   "display_name": ".venv (3.12.3)",
   "language": "python",
   "name": "python3"
  },
  "language_info": {
   "codemirror_mode": {
    "name": "ipython",
    "version": 3
   },
   "file_extension": ".py",
   "mimetype": "text/x-python",
   "name": "python",
   "nbconvert_exporter": "python",
   "pygments_lexer": "ipython3",
   "version": "3.12.3"
  }
 },
 "nbformat": 4,
 "nbformat_minor": 5
}
