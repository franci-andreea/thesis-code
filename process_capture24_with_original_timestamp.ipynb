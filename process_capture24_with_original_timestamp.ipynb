{
 "cells": [
  {
   "cell_type": "code",
   "execution_count": null,
   "id": "4c91b69b",
   "metadata": {},
   "outputs": [],
   "source": [
    "import pandas as pd\n",
    "import numpy as np\n",
    "import glob"
   ]
  },
  {
   "cell_type": "code",
   "execution_count": null,
   "id": "ab01a962",
   "metadata": {},
   "outputs": [],
   "source": [
    "def handle_empty_activity(activity):\n",
    "    if pd.isna(activity):\n",
    "        activity = 'NAN'\n",
    "    return activity"
   ]
  },
  {
   "cell_type": "code",
   "execution_count": null,
   "id": "b946af5b",
   "metadata": {},
   "outputs": [],
   "source": [
    "# read capture24 dataset\n",
    "fp = '/home/franci/licenta/datasets_archives/capture24/'\n",
    "capture24_csv_files = glob.glob(fp + 'P*.csv')\n",
    "capture24_csv_files.sort()\n",
    "\n",
    "print(capture24_csv_files)"
   ]
  },
  {
   "cell_type": "code",
   "execution_count": null,
   "id": "1b48ca72",
   "metadata": {},
   "outputs": [],
   "source": [
    "LABEL_SET = 'label:WillettsSpecific2018'\n",
    "activity_labels = 'annotation-label-dictionary.csv'\n",
    "annotations_label_dict = pd.read_csv(fp + activity_labels, index_col='annotation', dtype='string')\n",
    "\n",
    "person_id = 152\n",
    "for f in capture24_csv_files:\n",
    "    person_df = pd.read_csv(f, header=0, names=['TIMESTAMP', 'ACC_X', 'ACC_Y', 'ACC_Z', 'ANNOTATION'])\n",
    "    person_df['ACTIVITY'] = annotations_label_dict[LABEL_SET].reindex(person_df['ANNOTATION']).to_numpy()\n",
    "    person_df['ACTIVITY'] = person_df['ACTIVITY'].apply(lambda x: handle_empty_activity(x))\n",
    "    person_df = person_df.drop('ANNOTATION', axis=1)\n",
    "    person_df = person_df[person_df['ACTIVITY'] != 'NAN']\n",
    "    person_df['PERSON_ID'] = person_id\n",
    "    cols = person_df.columns.to_list()\n",
    "    cols = cols[-1:] + cols[:-1]\n",
    "    person_df = person_df[cols]\n",
    "    person_df = person_df[::100]\n",
    "\n",
    "    if person_id == 152:\n",
    "        person_df.to_csv(f, mode='w+', index=False)\n",
    "        print(\"Saved first file with header!\\n\")\n",
    "    else:\n",
    "        person_df.to_csv(f, mode='w+', index=False, header=False)\n",
    "\n",
    "    print(person_id)\n",
    "    person_id = person_id + 1"
   ]
  }
 ],
 "metadata": {
  "language_info": {
   "name": "python"
  }
 },
 "nbformat": 4,
 "nbformat_minor": 5
}
