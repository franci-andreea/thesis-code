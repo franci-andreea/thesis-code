{
 "cells": [
  {
   "cell_type": "code",
   "execution_count": 1,
   "id": "0d368404",
   "metadata": {},
   "outputs": [],
   "source": [
    "import pandas as pd\n",
    "import numpy as np"
   ]
  },
  {
   "cell_type": "code",
   "execution_count": 28,
   "id": "5ca56e27",
   "metadata": {},
   "outputs": [],
   "source": [
    "from collections import Counter\n",
    "import tensorflow as tf\n",
    "from tensorflow.keras.models import Sequential\n",
    "from tensorflow.keras.layers import LSTM, Dense, Dropout\n",
    "from tensorflow.keras.utils import to_categorical\n",
    "from tensorflow.keras.callbacks import EarlyStopping, ModelCheckpoint\n",
    "from sklearn.preprocessing import LabelEncoder, StandardScaler\n",
    "from sklearn.utils import class_weight\n",
    "\n",
    "from scipy import stats"
   ]
  },
  {
   "cell_type": "code",
   "execution_count": 64,
   "id": "4278e3e8",
   "metadata": {},
   "outputs": [],
   "source": [
    "from sklearn.metrics import classification_report"
   ]
  },
  {
   "cell_type": "code",
   "execution_count": 3,
   "id": "e15dc39a",
   "metadata": {},
   "outputs": [],
   "source": [
    "# read datasets\n",
    "train_df = pd.read_csv('./train_data.csv')\n",
    "validation_df = pd.read_csv('./validation_data.csv')\n",
    "test_df = pd.read_csv('./test_data.csv')"
   ]
  },
  {
   "cell_type": "code",
   "execution_count": 4,
   "id": "9e349f79",
   "metadata": {},
   "outputs": [],
   "source": [
    "def print_row_distribution(df):\n",
    "    activity_counts = Counter(df['ACTIVITY'])\n",
    "    sorted_counts = sorted(activity_counts.items(), key=lambda x: x[1], reverse=True)\n",
    "\n",
    "    print(\"Row count per class (descending):\")\n",
    "    for label, count in sorted_counts:\n",
    "        print(f\"{label:20} {count}\")"
   ]
  },
  {
   "cell_type": "code",
   "execution_count": 5,
   "id": "94670d2e",
   "metadata": {},
   "outputs": [
    {
     "name": "stdout",
     "output_type": "stream",
     "text": [
      "Row count per class (descending):\n",
      "sleep                4677402\n",
      "sitting              2428107\n",
      "household-chores     424124\n",
      "walking              408513\n",
      "vehicle              240685\n",
      "mixed-activity       238993\n",
      "standing             219726\n",
      "bicycling            70881\n",
      "manual-work          53081\n",
      "sports               26882\n",
      "writing              6824\n",
      "drinking             6732\n",
      "eating pasta         6654\n",
      "dribbling (basket ball) 6623\n",
      "folding clothes      6620\n",
      "eating chips         6556\n",
      "eating sandwich      6555\n",
      "kicking (soccer ball) 6512\n",
      "stairs               6491\n",
      "typing               6490\n",
      "brushing teeth       6489\n",
      "eating soup          6489\n",
      "clapping             6489\n",
      "playing catch (tennis ball) 6461\n",
      "jogging              6312\n"
     ]
    }
   ],
   "source": [
    "print_row_distribution(train_df)"
   ]
  },
  {
   "cell_type": "code",
   "execution_count": 6,
   "id": "1f80ee11",
   "metadata": {},
   "outputs": [],
   "source": [
    "# BUILD SLIDING WINDOW\n",
    "# df - dataframe used\n",
    "# window_size - size of the sliding window, by default 11s if not mentioned otherwise\n",
    "# step_size - starting point for the current window given the previous, by default 5\n",
    "# feature_cols - features to be used in the sliding window\n",
    "def create_windows(dataset, window_size=11, step_size=5, feature_cols=['ACC_X', 'ACC_Y', 'ACC_Z']):\n",
    "    X = []\n",
    "    y = []\n",
    "    window = []\n",
    "\n",
    "    for person_id in dataset['PERSON_ID'].unique():\n",
    "        person_data = dataset[dataset['PERSON_ID'] == person_id]\n",
    "        feature_values = person_data[feature_cols].values\n",
    "        activity = person_data['ACTIVITY']\n",
    "\n",
    "        max_window_end = len(person_data)\n",
    "\n",
    "        for i in range(0, max_window_end - window_size, step_size):\n",
    "            window = feature_values[i:i+window_size]\n",
    "            window_label = activity[i:i+window_size].mode(dropna=False).iloc[0]\n",
    "\n",
    "            # Ensure the window is of the correct size\n",
    "            if len(window) != window_size:\n",
    "                continue  # Skip this window if it's the wrong shape\n",
    "\n",
    "            X.append(window)\n",
    "            y.append(window_label)\n",
    "\n",
    "    print(len(X))\n",
    "\n",
    "    return np.array(X), np.array(y)"
   ]
  },
  {
   "cell_type": "code",
   "execution_count": 12,
   "id": "36dd9abc",
   "metadata": {},
   "outputs": [],
   "source": [
    "window_size = 12\n",
    "step_size = 6"
   ]
  },
  {
   "cell_type": "code",
   "execution_count": 13,
   "id": "9b933a93",
   "metadata": {},
   "outputs": [
    {
     "name": "stdout",
     "output_type": "stream",
     "text": [
      "1480782\n",
      "416982\n",
      "215931\n"
     ]
    }
   ],
   "source": [
    "X_train, y_train = create_windows(train_df, window_size=window_size, step_size=step_size)\n",
    "X_val, y_val = create_windows(validation_df, window_size=window_size, step_size=step_size)\n",
    "X_test, y_test = create_windows(test_df, window_size=window_size, step_size=step_size)"
   ]
  },
  {
   "cell_type": "code",
   "execution_count": 14,
   "id": "86cf849c",
   "metadata": {},
   "outputs": [],
   "source": [
    "# print number of windows per class to see the imbalance ratio among windows\n",
    "def print_window_distribution(y_labels):\n",
    "    class_counts = Counter(y_labels)\n",
    "    sorted_counts = sorted(class_counts.items(), key=lambda x: x[1], reverse=True)\n",
    "\n",
    "    print(\"Window count per class (descending):\")\n",
    "    for label, count in sorted_counts:\n",
    "        print(f\"{label:20} {count}\")"
   ]
  },
  {
   "cell_type": "code",
   "execution_count": 15,
   "id": "e524ea13",
   "metadata": {},
   "outputs": [
    {
     "name": "stdout",
     "output_type": "stream",
     "text": [
      "Window count per class (descending):\n",
      "sleep                779334\n",
      "sitting              404745\n",
      "household-chores     70822\n",
      "walking              67786\n",
      "vehicle              40124\n",
      "mixed-activity       39875\n",
      "standing             36583\n",
      "bicycling            11829\n",
      "manual-work          8857\n",
      "sports               4481\n",
      "writing              1135\n",
      "drinking             1122\n",
      "eating pasta         1107\n",
      "dribbling (basket ball) 1103\n",
      "eating chips         1093\n",
      "eating sandwich      1091\n",
      "brushing teeth       1084\n",
      "kicking (soccer ball) 1083\n",
      "clapping             1082\n",
      "jogging              1080\n",
      "eating soup          1078\n",
      "typing               1076\n",
      "playing catch (tennis ball) 1076\n",
      "stairs               1071\n",
      "folding clothes      1065\n"
     ]
    }
   ],
   "source": [
    "print_window_distribution(y_train)"
   ]
  },
  {
   "cell_type": "code",
   "execution_count": 16,
   "id": "1a0f562e",
   "metadata": {},
   "outputs": [],
   "source": [
    "def downsample_upweight_majority_class(X_train, y_train, downsample_factor, majority_class, sample_weights):\n",
    "    np.random.seed(42)\n",
    "\n",
    "    majority_class_indices = np.where(y_train == majority_class)[0]\n",
    "\n",
    "    X_majority_class = X_train[majority_class_indices]\n",
    "    y_majority_class = y_train[majority_class_indices]\n",
    "\n",
    "    print(f\"total number of rows on X for majority class {majority_class}: {len(X_majority_class)}\")\n",
    "    print(f\"total number of rows on y for majority class {majority_class}: {len(y_majority_class)}\")\n",
    "\n",
    "    number_of_majority_samples = len(X_majority_class)\n",
    "    number_of_samples_to_extract = number_of_majority_samples // downsample_factor\n",
    "\n",
    "    random_chosen_indices = np.random.choice(number_of_majority_samples, number_of_samples_to_extract, replace=False)\n",
    "\n",
    "    # downsampled_X = X_majority_class[random_chosen_indices]\n",
    "    # downsampled_y = y_majority_class[random_chosen_indices]\n",
    "\n",
    "    new_X_train = []\n",
    "    new_y_train = []\n",
    "    new_sample_weights = []\n",
    "\n",
    "    selected_majority_indices = majority_class_indices[random_chosen_indices]\n",
    "\n",
    "    for index in range(0, len(X_train)):\n",
    "        if index in selected_majority_indices:\n",
    "            new_X_train.append(X_train[index])\n",
    "            new_sample_weights.append(sample_weights[index] * downsample_factor)\n",
    "            new_y_train.append(y_train[index])\n",
    "        elif index in majority_class_indices:\n",
    "            continue\n",
    "        else:\n",
    "            new_X_train.append(X_train[index])\n",
    "            new_sample_weights.append(sample_weights[index])\n",
    "            new_y_train.append(y_train[index])\n",
    "    \n",
    "    return np.array(new_X_train), np.array(new_y_train), np.array(new_sample_weights)\n"
   ]
  },
  {
   "cell_type": "code",
   "execution_count": 17,
   "id": "6097ac62",
   "metadata": {},
   "outputs": [],
   "source": [
    "sample_weights = np.full(len(X_train), 1) # initialize weights array"
   ]
  },
  {
   "cell_type": "code",
   "execution_count": 18,
   "id": "518c1abe",
   "metadata": {},
   "outputs": [],
   "source": [
    "class_downsample_factors = {\n",
    "    'sleep': 20,\n",
    "    'sitting': 10,\n",
    "    'household-chores': 2,\n",
    "    'walking': 2\n",
    "}"
   ]
  },
  {
   "cell_type": "code",
   "execution_count": 19,
   "id": "926214b8",
   "metadata": {},
   "outputs": [
    {
     "name": "stdout",
     "output_type": "stream",
     "text": [
      "total number of rows on X for majority class sleep: 779334\n",
      "total number of rows on y for majority class sleep: 779334\n",
      "total number of rows on X for majority class sitting: 404745\n",
      "total number of rows on y for majority class sitting: 404745\n",
      "total number of rows on X for majority class household-chores: 70822\n",
      "total number of rows on y for majority class household-chores: 70822\n",
      "total number of rows on X for majority class walking: 67786\n",
      "total number of rows on y for majority class walking: 67786\n"
     ]
    }
   ],
   "source": [
    "for class_name, downsample_factor in class_downsample_factors.items():\n",
    "    new_X_train, new_y_train, sample_weights = downsample_upweight_majority_class(X_train, y_train, downsample_factor, class_name, sample_weights)\n",
    "    X_train = new_X_train\n",
    "    y_train = new_y_train"
   ]
  },
  {
   "cell_type": "code",
   "execution_count": 20,
   "id": "12b1c758",
   "metadata": {},
   "outputs": [],
   "source": [
    "X_train = new_X_train\n",
    "y_train = new_y_train"
   ]
  },
  {
   "cell_type": "code",
   "execution_count": 21,
   "id": "994ef60f",
   "metadata": {},
   "outputs": [
    {
     "name": "stdout",
     "output_type": "stream",
     "text": [
      "Window count per class (descending):\n",
      "sitting              40474\n",
      "vehicle              40124\n",
      "mixed-activity       39875\n",
      "sleep                38966\n",
      "standing             36583\n",
      "household-chores     35411\n",
      "walking              33893\n",
      "bicycling            11829\n",
      "manual-work          8857\n",
      "sports               4481\n",
      "writing              1135\n",
      "drinking             1122\n",
      "eating pasta         1107\n",
      "dribbling (basket ball) 1103\n",
      "eating chips         1093\n",
      "eating sandwich      1091\n",
      "brushing teeth       1084\n",
      "kicking (soccer ball) 1083\n",
      "clapping             1082\n",
      "jogging              1080\n",
      "eating soup          1078\n",
      "typing               1076\n",
      "playing catch (tennis ball) 1076\n",
      "stairs               1071\n",
      "folding clothes      1065\n"
     ]
    }
   ],
   "source": [
    "print_window_distribution(y_train)"
   ]
  },
  {
   "cell_type": "code",
   "execution_count": 22,
   "id": "aec4d3e7",
   "metadata": {},
   "outputs": [],
   "source": [
    "scaler = StandardScaler() # z-score\n",
    "\n",
    "n_samples = X_train.shape[0]\n",
    "n_timesteps = X_train.shape[1]\n",
    "n_features = X_train.shape[2]"
   ]
  },
  {
   "cell_type": "code",
   "execution_count": 23,
   "id": "ed5dd77b",
   "metadata": {},
   "outputs": [],
   "source": [
    "X_train_flat = X_train.reshape(-1, X_train.shape[-1])  # Flatten each window into a 1D array\n",
    "X_val_flat = X_val.reshape(-1, X_val.shape[-1])\n",
    "X_test_flat = X_test.reshape(-1, X_test.shape[-1])"
   ]
  },
  {
   "cell_type": "code",
   "execution_count": 24,
   "id": "09875e7d",
   "metadata": {},
   "outputs": [],
   "source": [
    "X_train_scaled = scaler.fit_transform(X_train_flat).reshape(n_samples, n_timesteps, n_features)\n",
    "X_val_scaled = scaler.transform(X_val_flat).reshape(X_val.shape[0], n_timesteps, n_features)\n",
    "X_test_scaled = scaler.transform(X_test_flat).reshape(X_test.shape[0], n_timesteps, n_features)"
   ]
  },
  {
   "cell_type": "code",
   "execution_count": null,
   "id": "2b7e7e88",
   "metadata": {},
   "outputs": [],
   "source": [
    "# ENCODE LABELS\n",
    "le = LabelEncoder()\n",
    "y_train_enc = le.fit_transform(y_train)\n",
    "y_val_enc = le.transform(y_val)\n",
    "y_test_enc = le.transform(y_test)\n",
    "\n",
    "# Convert labels to one-hot encoding\n",
    "y_train_cat = to_categorical(y_train_enc)\n",
    "y_val_cat = to_categorical(y_val_enc)\n",
    "y_test_cat = to_categorical(y_test_enc)\n",
    "\n",
    "num_classes = y_train_cat.shape[1]  # Number of unique classes"
   ]
  },
  {
   "cell_type": "code",
   "execution_count": null,
   "id": "334bfa49",
   "metadata": {},
   "outputs": [],
   "source": [
    "# # Compute class weights\n",
    "# class_weights_array = class_weight.compute_class_weight(\n",
    "#     class_weight='balanced',\n",
    "#     classes=np.unique(y_train_enc),\n",
    "#     y=y_train_enc\n",
    "# )\n",
    "\n",
    "# # Convert to dictionary\n",
    "# class_weights = dict(enumerate(class_weights_array))"
   ]
  },
  {
   "cell_type": "code",
   "execution_count": 80,
   "id": "2a556b47",
   "metadata": {},
   "outputs": [],
   "source": [
    "# build model\n",
    "# Build the LSTM model\n",
    "model = Sequential([\n",
    "    LSTM(128, input_shape=(X_train_scaled.shape[1], X_train_scaled.shape[2]), return_sequences=False),\n",
    "    Dropout(0.5),\n",
    "    Dense(64, activation='relu'),\n",
    "    Dense(num_classes, activation='softmax')\n",
    "])"
   ]
  },
  {
   "cell_type": "code",
   "execution_count": 81,
   "id": "225c1e21",
   "metadata": {},
   "outputs": [],
   "source": [
    "early_stopping = EarlyStopping(monitor='val_loss', patience=10, verbose=1, restore_best_weights=True)"
   ]
  },
  {
   "cell_type": "code",
   "execution_count": 82,
   "id": "ba1cda39",
   "metadata": {},
   "outputs": [],
   "source": [
    "# compile model\n",
    "model.compile(\n",
    "    loss='categorical_crossentropy',\n",
    "    optimizer='adam',\n",
    "    metrics=['accuracy']\n",
    ")"
   ]
  },
  {
   "cell_type": "code",
   "execution_count": null,
   "id": "05c3e994",
   "metadata": {},
   "outputs": [
    {
     "name": "stdout",
     "output_type": "stream",
     "text": [
      "Epoch 1/100\n",
      "\u001b[1m2398/2398\u001b[0m \u001b[32m━━━━━━━━━━━━━━━━━━━━\u001b[0m\u001b[37m\u001b[0m \u001b[1m54s\u001b[0m 22ms/step - accuracy: 0.1748 - loss: 6.2667 - val_accuracy: 0.5867 - val_loss: 1.1910\n",
      "Epoch 2/100\n",
      "\u001b[1m2398/2398\u001b[0m \u001b[32m━━━━━━━━━━━━━━━━━━━━\u001b[0m\u001b[37m\u001b[0m \u001b[1m53s\u001b[0m 22ms/step - accuracy: 0.2181 - loss: 5.1413 - val_accuracy: 0.5821 - val_loss: 1.1675\n",
      "Epoch 3/100\n",
      "\u001b[1m2398/2398\u001b[0m \u001b[32m━━━━━━━━━━━━━━━━━━━━\u001b[0m\u001b[37m\u001b[0m \u001b[1m53s\u001b[0m 22ms/step - accuracy: 0.2378 - loss: 4.9240 - val_accuracy: 0.6061 - val_loss: 1.1153\n",
      "Epoch 4/100\n",
      "\u001b[1m2398/2398\u001b[0m \u001b[32m━━━━━━━━━━━━━━━━━━━━\u001b[0m\u001b[37m\u001b[0m \u001b[1m52s\u001b[0m 22ms/step - accuracy: 0.2589 - loss: 4.7675 - val_accuracy: 0.6267 - val_loss: 1.0943\n",
      "Epoch 5/100\n",
      "\u001b[1m2398/2398\u001b[0m \u001b[32m━━━━━━━━━━━━━━━━━━━━\u001b[0m\u001b[37m\u001b[0m \u001b[1m52s\u001b[0m 22ms/step - accuracy: 0.2651 - loss: 4.6790 - val_accuracy: 0.6236 - val_loss: 1.0734\n",
      "Epoch 6/100\n",
      "\u001b[1m2398/2398\u001b[0m \u001b[32m━━━━━━━━━━━━━━━━━━━━\u001b[0m\u001b[37m\u001b[0m \u001b[1m52s\u001b[0m 22ms/step - accuracy: 0.2757 - loss: 4.6000 - val_accuracy: 0.6232 - val_loss: 1.0763\n",
      "Epoch 7/100\n",
      "\u001b[1m2398/2398\u001b[0m \u001b[32m━━━━━━━━━━━━━━━━━━━━\u001b[0m\u001b[37m\u001b[0m \u001b[1m52s\u001b[0m 22ms/step - accuracy: 0.2806 - loss: 4.5464 - val_accuracy: 0.6361 - val_loss: 1.0404\n",
      "Epoch 8/100\n",
      "\u001b[1m2398/2398\u001b[0m \u001b[32m━━━━━━━━━━━━━━━━━━━━\u001b[0m\u001b[37m\u001b[0m \u001b[1m52s\u001b[0m 22ms/step - accuracy: 0.2893 - loss: 4.3918 - val_accuracy: 0.6165 - val_loss: 1.0727\n",
      "Epoch 9/100\n",
      "\u001b[1m2398/2398\u001b[0m \u001b[32m━━━━━━━━━━━━━━━━━━━━\u001b[0m\u001b[37m\u001b[0m \u001b[1m52s\u001b[0m 22ms/step - accuracy: 0.2968 - loss: 4.2811 - val_accuracy: 0.6568 - val_loss: 0.9858\n",
      "Epoch 10/100\n",
      "\u001b[1m2398/2398\u001b[0m \u001b[32m━━━━━━━━━━━━━━━━━━━━\u001b[0m\u001b[37m\u001b[0m \u001b[1m52s\u001b[0m 22ms/step - accuracy: 0.3076 - loss: 4.1563 - val_accuracy: 0.6661 - val_loss: 0.9748\n",
      "Epoch 11/100\n",
      "\u001b[1m2398/2398\u001b[0m \u001b[32m━━━━━━━━━━━━━━━━━━━━\u001b[0m\u001b[37m\u001b[0m \u001b[1m51s\u001b[0m 21ms/step - accuracy: 0.3173 - loss: 4.0570 - val_accuracy: 0.6652 - val_loss: 0.9793\n",
      "Epoch 12/100\n",
      "\u001b[1m2398/2398\u001b[0m \u001b[32m━━━━━━━━━━━━━━━━━━━━\u001b[0m\u001b[37m\u001b[0m \u001b[1m51s\u001b[0m 21ms/step - accuracy: 0.3280 - loss: 3.9560 - val_accuracy: 0.6705 - val_loss: 0.9613\n",
      "Epoch 13/100\n",
      "\u001b[1m2398/2398\u001b[0m \u001b[32m━━━━━━━━━━━━━━━━━━━━\u001b[0m\u001b[37m\u001b[0m \u001b[1m52s\u001b[0m 22ms/step - accuracy: 0.3329 - loss: 3.9269 - val_accuracy: 0.6824 - val_loss: 0.9310\n",
      "Epoch 14/100\n",
      "\u001b[1m2398/2398\u001b[0m \u001b[32m━━━━━━━━━━━━━━━━━━━━\u001b[0m\u001b[37m\u001b[0m \u001b[1m51s\u001b[0m 21ms/step - accuracy: 0.3393 - loss: 3.8355 - val_accuracy: 0.6840 - val_loss: 0.9222\n",
      "Epoch 15/100\n",
      "\u001b[1m2398/2398\u001b[0m \u001b[32m━━━━━━━━━━━━━━━━━━━━\u001b[0m\u001b[37m\u001b[0m \u001b[1m52s\u001b[0m 21ms/step - accuracy: 0.3501 - loss: 3.7736 - val_accuracy: 0.6916 - val_loss: 0.9150\n",
      "Epoch 16/100\n",
      "\u001b[1m2398/2398\u001b[0m \u001b[32m━━━━━━━━━━━━━━━━━━━━\u001b[0m\u001b[37m\u001b[0m \u001b[1m51s\u001b[0m 21ms/step - accuracy: 0.3606 - loss: 3.7202 - val_accuracy: 0.6961 - val_loss: 0.9005\n",
      "Epoch 17/100\n",
      "\u001b[1m2398/2398\u001b[0m \u001b[32m━━━━━━━━━━━━━━━━━━━━\u001b[0m\u001b[37m\u001b[0m \u001b[1m51s\u001b[0m 21ms/step - accuracy: 0.3676 - loss: 3.6926 - val_accuracy: 0.7005 - val_loss: 0.8930\n",
      "Epoch 18/100\n",
      "\u001b[1m2398/2398\u001b[0m \u001b[32m━━━━━━━━━━━━━━━━━━━━\u001b[0m\u001b[37m\u001b[0m \u001b[1m51s\u001b[0m 21ms/step - accuracy: 0.3701 - loss: 3.6670 - val_accuracy: 0.6992 - val_loss: 0.8933\n",
      "Epoch 19/100\n",
      "\u001b[1m2398/2398\u001b[0m \u001b[32m━━━━━━━━━━━━━━━━━━━━\u001b[0m\u001b[37m\u001b[0m \u001b[1m52s\u001b[0m 21ms/step - accuracy: 0.3736 - loss: 3.6358 - val_accuracy: 0.6983 - val_loss: 0.8990\n",
      "Epoch 20/100\n",
      "\u001b[1m2398/2398\u001b[0m \u001b[32m━━━━━━━━━━━━━━━━━━━━\u001b[0m\u001b[37m\u001b[0m \u001b[1m51s\u001b[0m 21ms/step - accuracy: 0.3788 - loss: 3.6078 - val_accuracy: 0.7028 - val_loss: 0.8893\n",
      "Epoch 21/100\n",
      "\u001b[1m2398/2398\u001b[0m \u001b[32m━━━━━━━━━━━━━━━━━━━━\u001b[0m\u001b[37m\u001b[0m \u001b[1m52s\u001b[0m 22ms/step - accuracy: 0.3812 - loss: 3.5987 - val_accuracy: 0.7047 - val_loss: 0.8838\n",
      "Epoch 22/100\n",
      "\u001b[1m2398/2398\u001b[0m \u001b[32m━━━━━━━━━━━━━━━━━━━━\u001b[0m\u001b[37m\u001b[0m \u001b[1m51s\u001b[0m 21ms/step - accuracy: 0.3834 - loss: 3.5637 - val_accuracy: 0.7027 - val_loss: 0.8864\n",
      "Epoch 23/100\n",
      "\u001b[1m2398/2398\u001b[0m \u001b[32m━━━━━━━━━━━━━━━━━━━━\u001b[0m\u001b[37m\u001b[0m \u001b[1m51s\u001b[0m 21ms/step - accuracy: 0.3867 - loss: 3.5592 - val_accuracy: 0.7066 - val_loss: 0.8858\n",
      "Epoch 24/100\n",
      "\u001b[1m2398/2398\u001b[0m \u001b[32m━━━━━━━━━━━━━━━━━━━━\u001b[0m\u001b[37m\u001b[0m \u001b[1m52s\u001b[0m 22ms/step - accuracy: 0.3891 - loss: 3.5493 - val_accuracy: 0.7025 - val_loss: 0.8885\n",
      "Epoch 25/100\n",
      "\u001b[1m2398/2398\u001b[0m \u001b[32m━━━━━━━━━━━━━━━━━━━━\u001b[0m\u001b[37m\u001b[0m \u001b[1m49s\u001b[0m 20ms/step - accuracy: 0.3929 - loss: 3.5036 - val_accuracy: 0.7050 - val_loss: 0.8865\n",
      "Epoch 26/100\n",
      "\u001b[1m2398/2398\u001b[0m \u001b[32m━━━━━━━━━━━━━━━━━━━━\u001b[0m\u001b[37m\u001b[0m \u001b[1m50s\u001b[0m 21ms/step - accuracy: 0.3970 - loss: 3.4973 - val_accuracy: 0.7086 - val_loss: 0.8794\n",
      "Epoch 27/100\n",
      "\u001b[1m2398/2398\u001b[0m \u001b[32m━━━━━━━━━━━━━━━━━━━━\u001b[0m\u001b[37m\u001b[0m \u001b[1m51s\u001b[0m 21ms/step - accuracy: 0.3955 - loss: 3.4951 - val_accuracy: 0.7094 - val_loss: 0.8750\n",
      "Epoch 28/100\n",
      "\u001b[1m2398/2398\u001b[0m \u001b[32m━━━━━━━━━━━━━━━━━━━━\u001b[0m\u001b[37m\u001b[0m \u001b[1m51s\u001b[0m 21ms/step - accuracy: 0.3975 - loss: 3.4669 - val_accuracy: 0.7035 - val_loss: 0.8833\n",
      "Epoch 29/100\n",
      "\u001b[1m2398/2398\u001b[0m \u001b[32m━━━━━━━━━━━━━━━━━━━━\u001b[0m\u001b[37m\u001b[0m \u001b[1m51s\u001b[0m 21ms/step - accuracy: 0.4012 - loss: 3.4737 - val_accuracy: 0.7099 - val_loss: 0.8740\n",
      "Epoch 30/100\n",
      "\u001b[1m2398/2398\u001b[0m \u001b[32m━━━━━━━━━━━━━━━━━━━━\u001b[0m\u001b[37m\u001b[0m \u001b[1m48s\u001b[0m 20ms/step - accuracy: 0.4020 - loss: 3.4424 - val_accuracy: 0.7115 - val_loss: 0.8762\n",
      "Epoch 31/100\n",
      "\u001b[1m2398/2398\u001b[0m \u001b[32m━━━━━━━━━━━━━━━━━━━━\u001b[0m\u001b[37m\u001b[0m \u001b[1m49s\u001b[0m 20ms/step - accuracy: 0.4032 - loss: 3.4265 - val_accuracy: 0.7079 - val_loss: 0.8735\n",
      "Epoch 32/100\n",
      "\u001b[1m2398/2398\u001b[0m \u001b[32m━━━━━━━━━━━━━━━━━━━━\u001b[0m\u001b[37m\u001b[0m \u001b[1m49s\u001b[0m 20ms/step - accuracy: 0.4055 - loss: 3.4375 - val_accuracy: 0.7057 - val_loss: 0.8800\n",
      "Epoch 33/100\n",
      "\u001b[1m2398/2398\u001b[0m \u001b[32m━━━━━━━━━━━━━━━━━━━━\u001b[0m\u001b[37m\u001b[0m \u001b[1m48s\u001b[0m 20ms/step - accuracy: 0.4078 - loss: 3.4071 - val_accuracy: 0.7047 - val_loss: 0.8826\n",
      "Epoch 34/100\n",
      "\u001b[1m2398/2398\u001b[0m \u001b[32m━━━━━━━━━━━━━━━━━━━━\u001b[0m\u001b[37m\u001b[0m \u001b[1m46s\u001b[0m 19ms/step - accuracy: 0.4084 - loss: 3.4143 - val_accuracy: 0.7106 - val_loss: 0.8697\n",
      "Epoch 35/100\n",
      "\u001b[1m2398/2398\u001b[0m \u001b[32m━━━━━━━━━━━━━━━━━━━━\u001b[0m\u001b[37m\u001b[0m \u001b[1m50s\u001b[0m 21ms/step - accuracy: 0.4107 - loss: 3.4046 - val_accuracy: 0.7100 - val_loss: 0.8718\n",
      "Epoch 36/100\n",
      "\u001b[1m2398/2398\u001b[0m \u001b[32m━━━━━━━━━━━━━━━━━━━━\u001b[0m\u001b[37m\u001b[0m \u001b[1m49s\u001b[0m 20ms/step - accuracy: 0.4104 - loss: 3.3907 - val_accuracy: 0.7112 - val_loss: 0.8687\n",
      "Epoch 37/100\n",
      "\u001b[1m2398/2398\u001b[0m \u001b[32m━━━━━━━━━━━━━━━━━━━━\u001b[0m\u001b[37m\u001b[0m \u001b[1m45s\u001b[0m 19ms/step - accuracy: 0.4115 - loss: 3.3825 - val_accuracy: 0.7148 - val_loss: 0.8746\n",
      "Epoch 38/100\n",
      "\u001b[1m2398/2398\u001b[0m \u001b[32m━━━━━━━━━━━━━━━━━━━━\u001b[0m\u001b[37m\u001b[0m \u001b[1m49s\u001b[0m 20ms/step - accuracy: 0.4121 - loss: 3.3775 - val_accuracy: 0.7140 - val_loss: 0.8673\n",
      "Epoch 39/100\n",
      "\u001b[1m2398/2398\u001b[0m \u001b[32m━━━━━━━━━━━━━━━━━━━━\u001b[0m\u001b[37m\u001b[0m \u001b[1m50s\u001b[0m 21ms/step - accuracy: 0.4146 - loss: 3.3720 - val_accuracy: 0.7143 - val_loss: 0.8663\n",
      "Epoch 40/100\n",
      "\u001b[1m2398/2398\u001b[0m \u001b[32m━━━━━━━━━━━━━━━━━━━━\u001b[0m\u001b[37m\u001b[0m \u001b[1m49s\u001b[0m 20ms/step - accuracy: 0.4141 - loss: 3.3735 - val_accuracy: 0.7095 - val_loss: 0.8702\n",
      "Epoch 41/100\n",
      "\u001b[1m2398/2398\u001b[0m \u001b[32m━━━━━━━━━━━━━━━━━━━━\u001b[0m\u001b[37m\u001b[0m \u001b[1m50s\u001b[0m 21ms/step - accuracy: 0.4170 - loss: 3.3635 - val_accuracy: 0.7147 - val_loss: 0.8705\n",
      "Epoch 42/100\n",
      "\u001b[1m2398/2398\u001b[0m \u001b[32m━━━━━━━━━━━━━━━━━━━━\u001b[0m\u001b[37m\u001b[0m \u001b[1m50s\u001b[0m 21ms/step - accuracy: 0.4185 - loss: 3.3345 - val_accuracy: 0.7141 - val_loss: 0.8656\n",
      "Epoch 43/100\n",
      "\u001b[1m2398/2398\u001b[0m \u001b[32m━━━━━━━━━━━━━━━━━━━━\u001b[0m\u001b[37m\u001b[0m \u001b[1m50s\u001b[0m 21ms/step - accuracy: 0.4192 - loss: 3.3310 - val_accuracy: 0.7147 - val_loss: 0.8676\n",
      "Epoch 44/100\n",
      "\u001b[1m2398/2398\u001b[0m \u001b[32m━━━━━━━━━━━━━━━━━━━━\u001b[0m\u001b[37m\u001b[0m \u001b[1m51s\u001b[0m 21ms/step - accuracy: 0.4188 - loss: 3.3406 - val_accuracy: 0.7141 - val_loss: 0.8650\n",
      "Epoch 45/100\n",
      "\u001b[1m2398/2398\u001b[0m \u001b[32m━━━━━━━━━━━━━━━━━━━━\u001b[0m\u001b[37m\u001b[0m \u001b[1m51s\u001b[0m 21ms/step - accuracy: 0.4240 - loss: 3.3125 - val_accuracy: 0.7162 - val_loss: 0.8638\n",
      "Epoch 46/100\n",
      "\u001b[1m2398/2398\u001b[0m \u001b[32m━━━━━━━━━━━━━━━━━━━━\u001b[0m\u001b[37m\u001b[0m \u001b[1m51s\u001b[0m 21ms/step - accuracy: 0.4225 - loss: 3.3103 - val_accuracy: 0.7188 - val_loss: 0.8668\n",
      "Epoch 47/100\n",
      "\u001b[1m2397/2398\u001b[0m \u001b[32m━━━━━━━━━━━━━━━━━━━\u001b[0m\u001b[37m━\u001b[0m \u001b[1m0s\u001b[0m 12ms/step - accuracy: 0.4244 - loss: 3.3207"
     ]
    }
   ],
   "source": [
    "# train model\n",
    "history = model.fit(\n",
    "    X_train_scaled, y_train_cat,\n",
    "    validation_data=(X_val_scaled, y_val_cat),\n",
    "    epochs=100,\n",
    "    batch_size=128,\n",
    "    verbose=1,\n",
    "    # class_weight=class_weights\n",
    "    sample_weight=sample_weights,\n",
    "    callbacks=[early_stopping]\n",
    ")"
   ]
  },
  {
   "cell_type": "code",
   "execution_count": 79,
   "id": "f86df4e3",
   "metadata": {},
   "outputs": [
    {
     "name": "stdout",
     "output_type": "stream",
     "text": [
      "Test accuracy: 0.7107 | Test loss: 0.8472\n"
     ]
    }
   ],
   "source": [
    "# evaluate\n",
    "test_loss, test_acc = model.evaluate(X_test_scaled, y_test_cat, verbose=0)\n",
    "print(f\"Test accuracy: {test_acc:.4f} | Test loss: {test_loss:.4f}\")"
   ]
  },
  {
   "cell_type": "code",
   "execution_count": null,
   "id": "7b583455",
   "metadata": {},
   "outputs": [
    {
     "name": "stdout",
     "output_type": "stream",
     "text": [
      "\u001b[1m6748/6748\u001b[0m \u001b[32m━━━━━━━━━━━━━━━━━━━━\u001b[0m\u001b[37m\u001b[0m \u001b[1m30s\u001b[0m 4ms/step\n"
     ]
    },
    {
     "name": "stderr",
     "output_type": "stream",
     "text": [
      "/home/franci/licenta/.venv/lib/python3.12/site-packages/sklearn/metrics/_classification.py:1565: UndefinedMetricWarning: Precision is ill-defined and being set to 0.0 in labels with no predicted samples. Use `zero_division` parameter to control this behavior.\n",
      "  _warn_prf(average, modifier, f\"{metric.capitalize()} is\", len(result))\n"
     ]
    },
    {
     "name": "stdout",
     "output_type": "stream",
     "text": [
      "                             precision    recall  f1-score   support\n",
      "\n",
      "                  bicycling       0.23      0.21      0.22      1783\n",
      "             brushing teeth       0.57      0.74      0.65      1084\n",
      "                   clapping       0.83      0.62      0.71      1082\n",
      "    dribbling (basket ball)       0.81      0.58      0.67      1103\n",
      "                   drinking       0.46      0.71      0.56      1122\n",
      "               eating chips       0.46      0.35      0.40      1093\n",
      "               eating pasta       0.55      0.61      0.58      1107\n",
      "            eating sandwich       0.31      0.09      0.14      1091\n",
      "                eating soup       0.54      0.60      0.57      1078\n",
      "            folding clothes       0.56      0.78      0.65      1065\n",
      "           household-chores       0.36      0.31      0.33     14003\n",
      "                    jogging       0.92      0.89      0.91      1080\n",
      "      kicking (soccer ball)       0.48      0.41      0.44      1083\n",
      "                manual-work       0.00      0.00      0.00      1692\n",
      "             mixed-activity       0.15      0.01      0.03      7797\n",
      "playing catch (tennis ball)       0.55      0.77      0.64      1076\n",
      "                    sitting       0.43      0.58      0.49     42747\n",
      "                      sleep       0.83      0.92      0.87    105410\n",
      "                     sports       0.00      0.00      0.00      2095\n",
      "                     stairs       0.50      0.28      0.36      1071\n",
      "                   standing       0.79      0.14      0.24      6400\n",
      "                     typing       0.63      0.81      0.71      1076\n",
      "                    vehicle       0.09      0.01      0.02      4589\n",
      "                    walking       0.39      0.28      0.32     13069\n",
      "                    writing       0.68      0.82      0.75      1135\n",
      "\n",
      "                   accuracy                           0.65    215931\n",
      "                  macro avg       0.49      0.46      0.45    215931\n",
      "               weighted avg       0.62      0.65      0.62    215931\n",
      "\n"
     ]
    },
    {
     "name": "stderr",
     "output_type": "stream",
     "text": [
      "/home/franci/licenta/.venv/lib/python3.12/site-packages/sklearn/metrics/_classification.py:1565: UndefinedMetricWarning: Precision is ill-defined and being set to 0.0 in labels with no predicted samples. Use `zero_division` parameter to control this behavior.\n",
      "  _warn_prf(average, modifier, f\"{metric.capitalize()} is\", len(result))\n",
      "/home/franci/licenta/.venv/lib/python3.12/site-packages/sklearn/metrics/_classification.py:1565: UndefinedMetricWarning: Precision is ill-defined and being set to 0.0 in labels with no predicted samples. Use `zero_division` parameter to control this behavior.\n",
      "  _warn_prf(average, modifier, f\"{metric.capitalize()} is\", len(result))\n"
     ]
    }
   ],
   "source": [
    "y_pred = model.predict(X_test_scaled)\n",
    "y_pred_labels = le.inverse_transform(np.argmax(y_pred, axis=1))\n",
    "y_true_labels = le.inverse_transform(np.argmax(y_test_cat, axis=1))\n",
    "\n",
    "print(classification_report(y_true_labels, y_pred_labels))"
   ]
  }
 ],
 "metadata": {
  "kernelspec": {
   "display_name": ".venv (3.12.3)",
   "language": "python",
   "name": "python3"
  },
  "language_info": {
   "codemirror_mode": {
    "name": "ipython",
    "version": 3
   },
   "file_extension": ".py",
   "mimetype": "text/x-python",
   "name": "python",
   "nbconvert_exporter": "python",
   "pygments_lexer": "ipython3",
   "version": "3.12.3"
  }
 },
 "nbformat": 4,
 "nbformat_minor": 5
}
