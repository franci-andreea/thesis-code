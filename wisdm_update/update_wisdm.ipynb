{
 "cells": [
  {
   "cell_type": "code",
   "execution_count": 13,
   "id": "b1e7996d",
   "metadata": {},
   "outputs": [],
   "source": [
    "import glob\n",
    "import pandas as pd\n",
    "\n",
    "from datetime import datetime, date"
   ]
  },
  {
   "cell_type": "code",
   "execution_count": 14,
   "id": "3873f766",
   "metadata": {},
   "outputs": [],
   "source": [
    "fp = '/home/franci/licenta/wisdm_update'\n",
    "wisdm_accel_csv_files = glob.glob(fp + '/data_16*_accel_watch.csv')"
   ]
  },
  {
   "cell_type": "code",
   "execution_count": null,
   "id": "7240b00c",
   "metadata": {},
   "outputs": [],
   "source": [
    "wisdm_accel_csv_files.sort()\n",
    "print(wisdm_accel_csv_files)"
   ]
  },
  {
   "cell_type": "code",
   "execution_count": 16,
   "id": "f8102d1b",
   "metadata": {},
   "outputs": [],
   "source": [
    "def set_activity(activity):\n",
    "    match activity:\n",
    "        case 'A':\n",
    "            activity = 'walking'\n",
    "        case 'B':\n",
    "            activity = 'jogging'\n",
    "        case 'C':\n",
    "            activity = 'stairs'\n",
    "        case 'D':\n",
    "            activity = 'sitting'\n",
    "        case 'E':\n",
    "            activity = 'standing'\n",
    "        case 'F':\n",
    "            activity = 'typing'\n",
    "        case 'G':\n",
    "            activity = 'brushing teeth'\n",
    "        case 'H':\n",
    "            activity = 'eating soup'\n",
    "        case 'I':\n",
    "            activity = 'eating chips'\n",
    "        case 'J':\n",
    "            activity = 'eating pasta'\n",
    "        case 'K':\n",
    "            activity = 'drinking'\n",
    "        case 'L':\n",
    "            activity = 'eating sandwich'\n",
    "        case 'M':\n",
    "            activity = 'kicking (soccer ball)'\n",
    "        case 'O':\n",
    "            activity = 'playing catch (tennis ball)'\n",
    "        case 'P':\n",
    "            activity = 'dribbling (basket ball)'\n",
    "        case 'Q':\n",
    "            activity = 'writing'\n",
    "        case 'R':\n",
    "            activity = 'clapping'\n",
    "        case 'S':\n",
    "            activity = 'folding clothes'\n",
    "    return activity"
   ]
  },
  {
   "cell_type": "code",
   "execution_count": 17,
   "id": "f6f2bd24",
   "metadata": {},
   "outputs": [],
   "source": [
    "def remove_semicolon(x):\n",
    "    if ';' in x:\n",
    "        x = x.replace(';', '')\n",
    "        x = float(x)\n",
    "    return x"
   ]
  },
  {
   "cell_type": "code",
   "execution_count": 18,
   "id": "4ac901be",
   "metadata": {},
   "outputs": [],
   "source": [
    "def convert_to_datetime(timestamp):\n",
    "    return datetime.fromtimestamp(timestamp)"
   ]
  },
  {
   "cell_type": "code",
   "execution_count": null,
   "id": "97ef4aa4",
   "metadata": {},
   "outputs": [],
   "source": [
    "acol_names = ['PERSON_ID', 'ACTIVITY', \"TIMESTAMP\", \"ACC_X\", \"ACC_Y\", \"ACC_Z\"]\n",
    "person_id = 101\n",
    "start_timestamp = 1609459200 # Friday, January 1, 2021 12:00:00 AM | Friday, January 1, 2021 2:00:00 AM\n",
    "time_step = 0.05 # 20Hz = 0.05 seconds per step\n",
    "for f in wisdm_accel_csv_files:\n",
    "    person_df = pd.read_csv(f, header=None, names=acol_names)\n",
    "\n",
    "    person_df['PERSON_ID'] = person_id\n",
    "\n",
    "    person_df['ACTIVITY'] = person_df['ACTIVITY'].apply(lambda x: set_activity(x))\n",
    "\n",
    "    person_df['ACC_Z'] = person_df['ACC_Z'].apply(lambda x: remove_semicolon(x))\n",
    "\n",
    "    new_timestamp = []\n",
    "    current_activity = None\n",
    "    counter = 0\n",
    "\n",
    "    for id, row in person_df.iterrows():\n",
    "        if row['ACTIVITY'] != current_activity:\n",
    "            current_activity = row['ACTIVITY']\n",
    "            counter = 0\n",
    "        new_timestamp.append(start_timestamp + counter * time_step)\n",
    "        counter = counter + 1\n",
    "    \n",
    "    person_df['TIMESTAMP'] = new_timestamp\n",
    "\n",
    "    person_df['TIMESTAMP'] = person_df['TIMESTAMP'].apply(lambda x: convert_to_datetime(x))\n",
    "\n",
    "    cols = cols = person_df.columns.to_list()\n",
    "\n",
    "    activity = cols.pop(1)\n",
    "    cols.append(activity)\n",
    "\n",
    "    person_df = person_df[cols]\n",
    "\n",
    "    if person_id == 101:\n",
    "        person_df.to_csv(f, mode='w+', index=False)\n",
    "        print(\"Saved first file with header!\\n\")\n",
    "    else:\n",
    "        person_df.to_csv(f, mode='w+', index=False, header=False)\n",
    "\n",
    "    person_id = person_id + 1\n",
    "    \n",
    "print(person_id)"
   ]
  }
 ],
 "metadata": {
  "kernelspec": {
   "display_name": ".venv (3.12.3)",
   "language": "python",
   "name": "python3"
  },
  "language_info": {
   "codemirror_mode": {
    "name": "ipython",
    "version": 3
   },
   "file_extension": ".py",
   "mimetype": "text/x-python",
   "name": "python",
   "nbconvert_exporter": "python",
   "pygments_lexer": "ipython3",
   "version": "3.12.3"
  }
 },
 "nbformat": 4,
 "nbformat_minor": 5
}
