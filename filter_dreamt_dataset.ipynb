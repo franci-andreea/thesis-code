{
 "cells": [
  {
   "cell_type": "code",
   "execution_count": 1,
   "id": "aef79940",
   "metadata": {},
   "outputs": [],
   "source": [
    "import pandas as pd"
   ]
  },
  {
   "cell_type": "code",
   "execution_count": null,
   "id": "a50d8506",
   "metadata": {},
   "outputs": [],
   "source": [
    "# Define each dataframe size\n",
    "group_sizes = {\n",
    "    'dreamt_train1': 20,\n",
    "    'dreamt_train2': 20,\n",
    "    'dreamt_train3': 20,\n",
    "    'dreamt_train4': 10,\n",
    "    'dreamt_validation': 20,\n",
    "    'dreamt_test': 10\n",
    "}\n",
    "\n",
    "dreamt_filename = './all_dreamt.csv'\n",
    "chunk_size = 10 ** 5\n",
    "\n",
    "# Output CSV file paths\n",
    "output_files = {group: f\"{group}.csv\" for group in group_sizes}\n",
    "\n",
    "# Track whether we've written the header yet\n",
    "first_write = {group: True for group in group_sizes}\n",
    "\n",
    "# To keep track of PERSON_IDs and group assignments\n",
    "seen_ids = []\n",
    "id_to_group = {}\n",
    "\n",
    "# Assign each new PERSON_ID to a group\n",
    "def assign_group(person_id):\n",
    "    if person_id not in id_to_group:\n",
    "        seen_ids.append(person_id)\n",
    "        idx = len(seen_ids) - 1\n",
    "        cumulative = 0\n",
    "        for group, size in group_sizes.items():\n",
    "            if idx < cumulative + size:\n",
    "                id_to_group[person_id] = group\n",
    "                break\n",
    "            cumulative += size\n",
    "    return id_to_group[person_id]\n",
    "\n",
    "for chunk in pd.read_csv(dreamt_filename, chunksize=chunk_size):\n",
    "    # Assign group to each row based on PERSON_ID\n",
    "    chunk['GROUP'] = chunk['PERSON_ID'].map(assign_group)\n",
    "\n",
    "    # Write rows to corresponding group CSV\n",
    "    for group in group_sizes:\n",
    "        filtered = chunk[chunk['GROUP'] == group].drop(columns='GROUP')\n",
    "        if not filtered.empty:\n",
    "            filtered.to_csv(\n",
    "                output_files[group],\n",
    "                mode='a',\n",
    "                index=False,\n",
    "                header=first_write[group]\n",
    "            )\n",
    "            first_write[group] = False  # Only write header once"
   ]
  },
  {
   "cell_type": "code",
   "execution_count": 10,
   "id": "e774c560",
   "metadata": {},
   "outputs": [
    {
     "name": "stdout",
     "output_type": "stream",
     "text": [
      "dreamt_train1 ids: <bound method Series.unique of 0            1\n",
      "1            1\n",
      "2            1\n",
      "3            1\n",
      "4            1\n",
      "            ..\n",
      "40932239    20\n",
      "40932240    20\n",
      "40932241    20\n",
      "40932242    20\n",
      "40932243    20\n",
      "Name: PERSON_ID, Length: 40932244, dtype: int64>\n"
     ]
    },
    {
     "name": "stderr",
     "output_type": "stream",
     "text": [
      "/tmp/ipykernel_7772/3930834115.py:4: DeprecationWarning: DataFrameGroupBy.apply operated on the grouping columns. This behavior is deprecated, and in a future version of pandas the grouping columns will be excluded from the operation. Either pass `include_groups=False` to exclude the groupings or explicitly select the grouping columns after groupby to silence this warning.\n",
      "  dreamt_train_slice = (dreamt_train.groupby('PERSON_ID').apply(lambda group: group.iloc[::64]).reset_index(drop=True))\n"
     ]
    },
    {
     "name": "stdout",
     "output_type": "stream",
     "text": [
      "dreamt_train1.shape: (639586, 6)\n",
      "dreamt_train2 ids: <bound method Series.unique of 0           21\n",
      "1           21\n",
      "2           21\n",
      "3           21\n",
      "4           21\n",
      "            ..\n",
      "41270607    40\n",
      "41270608    40\n",
      "41270609    40\n",
      "41270610    40\n",
      "41270611    40\n",
      "Name: PERSON_ID, Length: 41270612, dtype: int64>\n"
     ]
    },
    {
     "name": "stderr",
     "output_type": "stream",
     "text": [
      "/tmp/ipykernel_7772/3930834115.py:4: DeprecationWarning: DataFrameGroupBy.apply operated on the grouping columns. This behavior is deprecated, and in a future version of pandas the grouping columns will be excluded from the operation. Either pass `include_groups=False` to exclude the groupings or explicitly select the grouping columns after groupby to silence this warning.\n",
      "  dreamt_train_slice = (dreamt_train.groupby('PERSON_ID').apply(lambda group: group.iloc[::64]).reset_index(drop=True))\n"
     ]
    },
    {
     "name": "stdout",
     "output_type": "stream",
     "text": [
      "dreamt_train2.shape: (644873, 6)\n",
      "dreamt_train3 ids: <bound method Series.unique of 0           41\n",
      "1           41\n",
      "2           41\n",
      "3           41\n",
      "4           41\n",
      "            ..\n",
      "40174479    60\n",
      "40174480    60\n",
      "40174481    60\n",
      "40174482    60\n",
      "40174483    60\n",
      "Name: PERSON_ID, Length: 40174484, dtype: int64>\n"
     ]
    },
    {
     "name": "stderr",
     "output_type": "stream",
     "text": [
      "/tmp/ipykernel_7772/3930834115.py:4: DeprecationWarning: DataFrameGroupBy.apply operated on the grouping columns. This behavior is deprecated, and in a future version of pandas the grouping columns will be excluded from the operation. Either pass `include_groups=False` to exclude the groupings or explicitly select the grouping columns after groupby to silence this warning.\n",
      "  dreamt_train_slice = (dreamt_train.groupby('PERSON_ID').apply(lambda group: group.iloc[::64]).reset_index(drop=True))\n"
     ]
    },
    {
     "name": "stdout",
     "output_type": "stream",
     "text": [
      "dreamt_train3.shape: (627746, 6)\n",
      "dreamt_train4 ids: <bound method Series.unique of 0           61\n",
      "1           61\n",
      "2           61\n",
      "3           61\n",
      "4           61\n",
      "            ..\n",
      "20783877    70\n",
      "20783878    70\n",
      "20783879    70\n",
      "20783880    70\n",
      "20783881    70\n",
      "Name: PERSON_ID, Length: 20783882, dtype: int64>\n"
     ]
    },
    {
     "name": "stderr",
     "output_type": "stream",
     "text": [
      "/tmp/ipykernel_7772/3930834115.py:4: DeprecationWarning: DataFrameGroupBy.apply operated on the grouping columns. This behavior is deprecated, and in a future version of pandas the grouping columns will be excluded from the operation. Either pass `include_groups=False` to exclude the groupings or explicitly select the grouping columns after groupby to silence this warning.\n",
      "  dreamt_train_slice = (dreamt_train.groupby('PERSON_ID').apply(lambda group: group.iloc[::64]).reset_index(drop=True))\n"
     ]
    },
    {
     "name": "stdout",
     "output_type": "stream",
     "text": [
      "dreamt_train4.shape: (324758, 6)\n"
     ]
    }
   ],
   "source": [
    "for i in range(1, 5):\n",
    "    dreamt_train = pd.read_csv('./dreamt_train' + str(i) + '.csv')\n",
    "    print(f\"dreamt_train{i} ids: {dreamt_train['PERSON_ID'].unique}\")\n",
    "    dreamt_train_slice = (dreamt_train.groupby('PERSON_ID').apply(lambda group: group.iloc[::64]).reset_index(drop=True))\n",
    "    print(f\"dreamt_train{i}.shape: {dreamt_train_slice.shape}\")\n",
    "    dreamt_train_slice.to_csv('./dreamt_train' + str(i) + '.csv',mode='w+', index=False)"
   ]
  },
  {
   "cell_type": "code",
   "execution_count": 11,
   "id": "bfde2484",
   "metadata": {},
   "outputs": [
    {
     "name": "stdout",
     "output_type": "stream",
     "text": [
      "dreamt_validation ids: <bound method Series.unique of 0           71\n",
      "1           71\n",
      "2           71\n",
      "3           71\n",
      "4           71\n",
      "            ..\n",
      "40312719    90\n",
      "40312720    90\n",
      "40312721    90\n",
      "40312722    90\n",
      "40312723    90\n",
      "Name: PERSON_ID, Length: 40312724, dtype: int64>\n"
     ]
    }
   ],
   "source": [
    "dreamt_validation = pd.read_csv('./dreamt_validation.csv')\n",
    "print(f\"dreamt_validation ids: {dreamt_validation['PERSON_ID'].unique}\")"
   ]
  },
  {
   "cell_type": "code",
   "execution_count": 12,
   "id": "8257d9a1",
   "metadata": {},
   "outputs": [
    {
     "name": "stderr",
     "output_type": "stream",
     "text": [
      "/tmp/ipykernel_7772/1731842274.py:1: DeprecationWarning: DataFrameGroupBy.apply operated on the grouping columns. This behavior is deprecated, and in a future version of pandas the grouping columns will be excluded from the operation. Either pass `include_groups=False` to exclude the groupings or explicitly select the grouping columns after groupby to silence this warning.\n",
      "  dreamt_validation_slice = (dreamt_validation.groupby('PERSON_ID').apply(lambda group: group.iloc[::64]).reset_index(drop=True))\n"
     ]
    },
    {
     "data": {
      "text/plain": [
       "(629906, 6)"
      ]
     },
     "execution_count": 12,
     "metadata": {},
     "output_type": "execute_result"
    }
   ],
   "source": [
    "dreamt_validation_slice = (dreamt_validation.groupby('PERSON_ID').apply(lambda group: group.iloc[::64]).reset_index(drop=True))\n",
    "dreamt_validation_slice.shape"
   ]
  },
  {
   "cell_type": "code",
   "execution_count": null,
   "id": "b8284fd5",
   "metadata": {},
   "outputs": [],
   "source": [
    "dreamt_validation_slice.to_csv('./dreamt_validation.csv', mode='w+', index=False)"
   ]
  },
  {
   "cell_type": "code",
   "execution_count": 14,
   "id": "2284dbfc",
   "metadata": {},
   "outputs": [
    {
     "name": "stdout",
     "output_type": "stream",
     "text": [
      "dreamt_test ids: <bound method Series.unique of 0            91\n",
      "1            91\n",
      "2            91\n",
      "3            91\n",
      "4            91\n",
      "           ... \n",
      "20057477    100\n",
      "20057478    100\n",
      "20057479    100\n",
      "20057480    100\n",
      "20057481    100\n",
      "Name: PERSON_ID, Length: 20057482, dtype: int64>\n"
     ]
    }
   ],
   "source": [
    "dreamt_test = pd.read_csv('./dreamt_test.csv')\n",
    "print(f\"dreamt_test ids: {dreamt_test['PERSON_ID'].unique}\")"
   ]
  },
  {
   "cell_type": "code",
   "execution_count": 15,
   "id": "73147d2d",
   "metadata": {},
   "outputs": [
    {
     "name": "stderr",
     "output_type": "stream",
     "text": [
      "/tmp/ipykernel_7772/1755197154.py:1: DeprecationWarning: DataFrameGroupBy.apply operated on the grouping columns. This behavior is deprecated, and in a future version of pandas the grouping columns will be excluded from the operation. Either pass `include_groups=False` to exclude the groupings or explicitly select the grouping columns after groupby to silence this warning.\n",
      "  dreamt_test_slice = (dreamt_test.groupby('PERSON_ID').apply(lambda group: group.iloc[::64]).reset_index(drop=True))\n"
     ]
    },
    {
     "data": {
      "text/plain": [
       "(313408, 6)"
      ]
     },
     "execution_count": 15,
     "metadata": {},
     "output_type": "execute_result"
    }
   ],
   "source": [
    "dreamt_test_slice = (dreamt_test.groupby('PERSON_ID').apply(lambda group: group.iloc[::64]).reset_index(drop=True))\n",
    "dreamt_test_slice.shape"
   ]
  },
  {
   "cell_type": "code",
   "execution_count": null,
   "id": "af170df2",
   "metadata": {},
   "outputs": [],
   "source": [
    "dreamt_test_slice.to_csv('./dreamt_test.csv', mode='w+', index=False)"
   ]
  }
 ],
 "metadata": {
  "kernelspec": {
   "display_name": ".venv (3.12.3)",
   "language": "python",
   "name": "python3"
  },
  "language_info": {
   "codemirror_mode": {
    "name": "ipython",
    "version": 3
   },
   "file_extension": ".py",
   "mimetype": "text/x-python",
   "name": "python",
   "nbconvert_exporter": "python",
   "pygments_lexer": "ipython3",
   "version": "3.12.3"
  }
 },
 "nbformat": 4,
 "nbformat_minor": 5
}
